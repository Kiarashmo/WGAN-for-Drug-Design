{
 "cells": [
  {
   "cell_type": "code",
   "execution_count": 1,
   "metadata": {},
   "outputs": [],
   "source": [
    "import sys\n",
    "import pandas as pd\n",
    "import numpy as np\n",
    "import matplotlib.pyplot as plt\n",
    "\n",
    "# Define paths to the directories containing your modules\n",
    "src_path_1 = r'C:\\Users\\mokht\\Desktop\\GAN-Drug-Generator\\my_implementations\\src'\n",
    "src_path_2 = r'C:\\Users\\mokht\\Desktop\\GAN-Drug-Generator\\src'\n",
    "\n",
    "# Append paths to sys.path if they are not already included\n",
    "for path in [src_path_1, src_path_2]:\n",
    "    if path not in sys.path:\n",
    "        sys.path.append(path)\n",
    "\n",
    "# Now import your modules\n",
    "from my_Vocabulary import Vocabulary\n",
    "from my_AE import Autoencoder as AE\n",
    "from utils import *"
   ]
  },
  {
   "cell_type": "code",
   "execution_count": 2,
   "metadata": {},
   "outputs": [
    {
     "data": {
      "text/html": [
       "<div>\n",
       "<style scoped>\n",
       "    .dataframe tbody tr th:only-of-type {\n",
       "        vertical-align: middle;\n",
       "    }\n",
       "\n",
       "    .dataframe tbody tr th {\n",
       "        vertical-align: top;\n",
       "    }\n",
       "\n",
       "    .dataframe thead th {\n",
       "        text-align: right;\n",
       "    }\n",
       "</style>\n",
       "<table border=\"1\" class=\"dataframe\">\n",
       "  <thead>\n",
       "    <tr style=\"text-align: right;\">\n",
       "      <th></th>\n",
       "      <th>SMILES</th>\n",
       "    </tr>\n",
       "  </thead>\n",
       "  <tbody>\n",
       "    <tr>\n",
       "      <th>0</th>\n",
       "      <td>Cc1cc(NC(=O)COC(=O)COc2ccc3c4c(c(=O)oc3c2)CCC4...</td>\n",
       "    </tr>\n",
       "    <tr>\n",
       "      <th>1</th>\n",
       "      <td>Cn1c2c([N+](=O)[O-])cccc2c(=O)c2c(O)cc3c(c21)C...</td>\n",
       "    </tr>\n",
       "    <tr>\n",
       "      <th>2</th>\n",
       "      <td>C=C[C@]1(C)CC[C@H]2C(=C[C@@H]3OC(=O)[C@]4(C)[C...</td>\n",
       "    </tr>\n",
       "    <tr>\n",
       "      <th>3</th>\n",
       "      <td>COc1cc(CC[C@H](C[C@@H](OC(C)=O)[C@@H]2CCCCC[C@...</td>\n",
       "    </tr>\n",
       "    <tr>\n",
       "      <th>4</th>\n",
       "      <td>Cn1ccoc1=Nc1ccc(Cl)c(Cl)c1</td>\n",
       "    </tr>\n",
       "  </tbody>\n",
       "</table>\n",
       "</div>"
      ],
      "text/plain": [
       "                                              SMILES\n",
       "0  Cc1cc(NC(=O)COC(=O)COc2ccc3c4c(c(=O)oc3c2)CCC4...\n",
       "1  Cn1c2c([N+](=O)[O-])cccc2c(=O)c2c(O)cc3c(c21)C...\n",
       "2  C=C[C@]1(C)CC[C@H]2C(=C[C@@H]3OC(=O)[C@]4(C)[C...\n",
       "3  COc1cc(CC[C@H](C[C@@H](OC(C)=O)[C@@H]2CCCCC[C@...\n",
       "4                         Cn1ccoc1=Nc1ccc(Cl)c(Cl)c1"
      ]
     },
     "execution_count": 2,
     "metadata": {},
     "output_type": "execute_result"
    }
   ],
   "source": [
    "file_path_vae_train = r'C:\\Users\\mokht\\Desktop\\GAN-DRUG-GENERATOR\\my_implementations\\data\\clean_smiles.csv'\n",
    "df_vae_train = pd.read_csv(file_path_vae_train)\n",
    "df_vae_train.head()"
   ]
  },
  {
   "cell_type": "code",
   "execution_count": 3,
   "metadata": {},
   "outputs": [
    {
     "name": "stdout",
     "output_type": "stream",
     "text": [
      "Number of unique characters in the vocabulary: 79\n",
      "['G', 'C', '=', 'C', '[C@]', '1', '(', 'C', ')', 'C', 'C', '[C@H]', '2', 'C', '(', '=', 'C', '[C@@H]', '3', 'O', 'C', '(', '=', 'O', ')', '[C@]', '4', '(', 'C', ')', '[C@H]', '3', '[C@]', '2', '3', 'C', 'C', '[C@@]', '4', '(', 'O', ')', 'O', 'C', '3', ')', 'C', '1', 'A', 'A', 'A', 'A', 'A', 'A', 'A', 'A', 'A', 'A', 'A', 'A', 'A', 'A', 'A', 'A', 'A', 'A', 'A', 'A', 'A', 'A', 'A', 'A', 'A', 'A', 'A', 'A', 'A', 'A', 'A', 'A', 'A', 'A', 'A', 'A', 'A', 'A', 'A', 'A', 'A', 'A', 'A', 'A', 'A', 'A', 'A', 'A', 'A', 'A', 'A', 'A']\n",
      "[22, 19, 16, 19, 35, 7, 2, 19, 3, 19, 19, 34, 8, 19, 2, 16, 19, 32, 9, 25, 19, 2, 16, 25, 3, 35, 10, 2, 19, 3, 34, 9, 35, 8, 9, 19, 19, 33, 10, 2, 25, 3, 25, 19, 9, 3, 19, 7, 17, 17, 17, 17, 17, 17, 17, 17, 17, 17, 17, 17, 17, 17, 17, 17, 17, 17, 17, 17, 17, 17, 17, 17, 17, 17, 17, 17, 17, 17, 17, 17, 17, 17, 17, 17, 17, 17, 17, 17, 17, 17, 17, 17, 17, 17, 17, 17, 17, 17, 17, 17]\n"
     ]
    }
   ],
   "source": [
    "smiles = df_vae_train['SMILES'].tolist()\n",
    "\n",
    "vocab_file_path = r'C:\\Users\\mokht\\Desktop\\GAN-Drug-Generator\\my_implementations\\src\\vocab.txt'\n",
    "vocab = Vocabulary(vocab_file_path, max_len=100)\n",
    "vocab.update_vocab(smiles)\n",
    "tok_smiles, _ = vocab.tokenize(smiles)\n",
    "print(tok_smiles[2])\n",
    "X_train = vocab.encode(tok_smiles)\n",
    "print(X_train[2])\n",
    "len_X_train = len(X_train)\n",
    "X_train = np.reshape(X_train, (len_X_train, vocab.max_len, 1))"
   ]
  },
  {
   "cell_type": "code",
   "execution_count": 4,
   "metadata": {},
   "outputs": [
    {
     "name": "stdout",
     "output_type": "stream",
     "text": [
      "Model: \"Autoencoder\"\n",
      "__________________________________________________________________________________________________\n",
      " Layer (type)                   Output Shape         Param #     Connected to                     \n",
      "==================================================================================================\n",
      " encoder_inputs (InputLayer)    [(None, None)]       0           []                               \n",
      "                                                                                                  \n",
      " smiles_to_latent_model (Functi  (None, 256)         3181568     ['encoder_inputs[0][0]']         \n",
      " onal)                                                                                            \n",
      "                                                                                                  \n",
      " decoder_inputs (InputLayer)    [(None, 100, 79)]    0           []                               \n",
      "                                                                                                  \n",
      " latent_to_states_model (Functi  [(None, 512),       534528      ['smiles_to_latent_model[0][0]'] \n",
      " onal)                           (None, 512),                                                     \n",
      "                                 (None, 512),                                                     \n",
      "                                 (None, 512)]                                                     \n",
      "                                                                                                  \n",
      " states_to_smiles_model (Functi  (None, 100, 79)     3356239     ['decoder_inputs[0][0]',         \n",
      " onal)                                                            'latent_to_states_model[0][0]', \n",
      "                                                                  'latent_to_states_model[0][1]', \n",
      "                                                                  'latent_to_states_model[0][2]', \n",
      "                                                                  'latent_to_states_model[0][3]'] \n",
      "                                                                                                  \n",
      "==================================================================================================\n",
      "Total params: 7,072,335\n",
      "Trainable params: 7,060,559\n",
      "Non-trainable params: 11,776\n",
      "__________________________________________________________________________________________________\n",
      "Model: \"Autoencoder\"\n",
      "__________________________________________________________________________________________________\n",
      " Layer (type)                   Output Shape         Param #     Connected to                     \n",
      "==================================================================================================\n",
      " encoder_inputs (InputLayer)    [(None, None)]       0           []                               \n",
      "                                                                                                  \n",
      " smiles_to_latent_model (Functi  (None, 256)         3181568     ['encoder_inputs[0][0]']         \n",
      " onal)                                                                                            \n",
      "                                                                                                  \n",
      " decoder_inputs (InputLayer)    [(None, 100, 79)]    0           []                               \n",
      "                                                                                                  \n",
      " latent_to_states_model (Functi  [(None, 512),       534528      ['smiles_to_latent_model[0][0]'] \n",
      " onal)                           (None, 512),                                                     \n",
      "                                 (None, 512),                                                     \n",
      "                                 (None, 512)]                                                     \n",
      "                                                                                                  \n",
      " states_to_smiles_model (Functi  (None, 100, 79)     3356239     ['decoder_inputs[0][0]',         \n",
      " onal)                                                            'latent_to_states_model[0][0]', \n",
      "                                                                  'latent_to_states_model[0][1]', \n",
      "                                                                  'latent_to_states_model[0][2]', \n",
      "                                                                  'latent_to_states_model[0][3]'] \n",
      "                                                                                                  \n",
      "==================================================================================================\n",
      "Total params: 7,072,335\n",
      "Trainable params: 7,060,559\n",
      "Non-trainable params: 11,776\n",
      "__________________________________________________________________________________________________\n",
      "None\n"
     ]
    },
    {
     "ename": "ValueError",
     "evalue": "Cannot assign value to variable ' embedding/embeddings:0': Shape mismatch.The variable shape (79, 256), and the assigned value shape (45, 256) are incompatible.",
     "output_type": "error",
     "traceback": [
      "\u001b[1;31m---------------------------------------------------------------------------\u001b[0m",
      "\u001b[1;31mValueError\u001b[0m                                Traceback (most recent call last)",
      "Cell \u001b[1;32mIn[4], line 17\u001b[0m\n\u001b[0;32m     15\u001b[0m \u001b[38;5;66;03m# Initialize the autoencoder with updated parameters\u001b[39;00m\n\u001b[0;32m     16\u001b[0m autoencoder \u001b[38;5;241m=\u001b[39m AE(path_model, decoder_input_shape, latent_dim, lstm_units, output_dim, batch_norm, batch_norm_momentum, noise_std, numb_dec_layer, emb_dim, vocab_size, vocab\u001b[38;5;241m.\u001b[39mmax_len)\n\u001b[1;32m---> 17\u001b[0m \u001b[43mautoencoder\u001b[49m\u001b[38;5;241;43m.\u001b[39;49m\u001b[43mload_autoencoder_model\u001b[49m\u001b[43m(\u001b[49m\u001b[38;5;124;43mf\u001b[39;49m\u001b[38;5;124;43m'\u001b[39;49m\u001b[38;5;132;43;01m{\u001b[39;49;00m\u001b[43mpath_model\u001b[49m\u001b[38;5;132;43;01m}\u001b[39;49;00m\u001b[38;5;130;43;01m\\\\\u001b[39;49;00m\u001b[38;5;124;43mmodel--86--0.0013.hdf5\u001b[39;49m\u001b[38;5;124;43m'\u001b[39;49m\u001b[43m)\u001b[49m\n\u001b[0;32m     19\u001b[0m \u001b[38;5;66;03m# Encode the data into latent vectors\u001b[39;00m\n\u001b[0;32m     20\u001b[0m X_train \u001b[38;5;241m=\u001b[39m vocab\u001b[38;5;241m.\u001b[39mone_hot_encoder(tok_smiles)  \u001b[38;5;66;03m# Ensure data is one-hot encoded\u001b[39;00m\n",
      "File \u001b[1;32mc:\\Users\\mokht\\Desktop\\GAN-Drug-Generator\\my_src\\my_AE.py:215\u001b[0m, in \u001b[0;36mAutoencoder.load_autoencoder_model\u001b[1;34m(self, path)\u001b[0m\n\u001b[0;32m    211\u001b[0m \u001b[38;5;28;01mdef\u001b[39;00m \u001b[38;5;21mload_autoencoder_model\u001b[39m(\u001b[38;5;28mself\u001b[39m, path: \u001b[38;5;28mstr\u001b[39m):\n\u001b[0;32m    212\u001b[0m \u001b[38;5;250m    \u001b[39m\u001b[38;5;124;03m\"\"\"\u001b[39;00m\n\u001b[0;32m    213\u001b[0m \u001b[38;5;124;03m    Loads the weights for the autoencoder model from the specified path and rebuilds the sampling model.\u001b[39;00m\n\u001b[0;32m    214\u001b[0m \u001b[38;5;124;03m    \"\"\"\u001b[39;00m\n\u001b[1;32m--> 215\u001b[0m     \u001b[38;5;28;43mself\u001b[39;49m\u001b[38;5;241;43m.\u001b[39;49m\u001b[43mmodel\u001b[49m\u001b[38;5;241;43m.\u001b[39;49m\u001b[43mload_weights\u001b[49m\u001b[43m(\u001b[49m\u001b[43mpath\u001b[49m\u001b[43m)\u001b[49m\n\u001b[0;32m    216\u001b[0m     \u001b[38;5;28mself\u001b[39m\u001b[38;5;241m.\u001b[39mbuild_sample_model()\n",
      "File \u001b[1;32mc:\\Users\\mokht\\anaconda3\\envs\\myenv\\lib\\site-packages\\keras\\utils\\traceback_utils.py:67\u001b[0m, in \u001b[0;36mfilter_traceback.<locals>.error_handler\u001b[1;34m(*args, **kwargs)\u001b[0m\n\u001b[0;32m     65\u001b[0m \u001b[38;5;28;01mexcept\u001b[39;00m \u001b[38;5;167;01mException\u001b[39;00m \u001b[38;5;28;01mas\u001b[39;00m e:  \u001b[38;5;66;03m# pylint: disable=broad-except\u001b[39;00m\n\u001b[0;32m     66\u001b[0m   filtered_tb \u001b[38;5;241m=\u001b[39m _process_traceback_frames(e\u001b[38;5;241m.\u001b[39m__traceback__)\n\u001b[1;32m---> 67\u001b[0m   \u001b[38;5;28;01mraise\u001b[39;00m e\u001b[38;5;241m.\u001b[39mwith_traceback(filtered_tb) \u001b[38;5;28;01mfrom\u001b[39;00m \u001b[38;5;28;01mNone\u001b[39;00m\n\u001b[0;32m     68\u001b[0m \u001b[38;5;28;01mfinally\u001b[39;00m:\n\u001b[0;32m     69\u001b[0m   \u001b[38;5;28;01mdel\u001b[39;00m filtered_tb\n",
      "File \u001b[1;32mc:\\Users\\mokht\\anaconda3\\envs\\myenv\\lib\\site-packages\\keras\\backend.py:3930\u001b[0m, in \u001b[0;36mbatch_set_value\u001b[1;34m(tuples)\u001b[0m\n\u001b[0;32m   3928\u001b[0m \u001b[38;5;28;01mif\u001b[39;00m tf\u001b[38;5;241m.\u001b[39mcompat\u001b[38;5;241m.\u001b[39mv1\u001b[38;5;241m.\u001b[39mexecuting_eagerly_outside_functions():\n\u001b[0;32m   3929\u001b[0m   \u001b[38;5;28;01mfor\u001b[39;00m x, value \u001b[38;5;129;01min\u001b[39;00m tuples:\n\u001b[1;32m-> 3930\u001b[0m     \u001b[43mx\u001b[49m\u001b[38;5;241;43m.\u001b[39;49m\u001b[43massign\u001b[49m\u001b[43m(\u001b[49m\u001b[43mnp\u001b[49m\u001b[38;5;241;43m.\u001b[39;49m\u001b[43masarray\u001b[49m\u001b[43m(\u001b[49m\u001b[43mvalue\u001b[49m\u001b[43m,\u001b[49m\u001b[43m \u001b[49m\u001b[43mdtype\u001b[49m\u001b[38;5;241;43m=\u001b[39;49m\u001b[43mdtype_numpy\u001b[49m\u001b[43m(\u001b[49m\u001b[43mx\u001b[49m\u001b[43m)\u001b[49m\u001b[43m)\u001b[49m\u001b[43m)\u001b[49m\n\u001b[0;32m   3931\u001b[0m \u001b[38;5;28;01melse\u001b[39;00m:\n\u001b[0;32m   3932\u001b[0m   \u001b[38;5;28;01mwith\u001b[39;00m get_graph()\u001b[38;5;241m.\u001b[39mas_default():\n",
      "\u001b[1;31mValueError\u001b[0m: Cannot assign value to variable ' embedding/embeddings:0': Shape mismatch.The variable shape (79, 256), and the assigned value shape (45, 256) are incompatible."
     ]
    }
   ],
   "source": [
    "# Autoencoder setup and loading\n",
    "path_model = r'C:\\Users\\mokht\\Desktop\\GAN-Drug-Generator\\models\\AE\\Exp9model2256_500000_biLSTM2_units512_dec_layers2-128-0.9-adam-0.1-256'\n",
    "latent_dim = 256\n",
    "lstm_units = 512\n",
    "batch_norm = True\n",
    "batch_norm_momentum = 0.9\n",
    "noise_std = 0.1\n",
    "numb_dec_layer = 2\n",
    "emb_dim = 256\n",
    "\n",
    "vocab_size = vocab.vocab_size  # Get the vocab size from your Vocabulary instance\n",
    "decoder_input_shape = (vocab.max_len, vocab_size)\n",
    "output_dim = vocab_size  # Updated based on vocabulary size\n",
    "\n",
    "# Initialize the autoencoder with updated parameters\n",
    "autoencoder = AE(path_model, decoder_input_shape, latent_dim, lstm_units, output_dim, batch_norm, batch_norm_momentum, noise_std, numb_dec_layer, emb_dim, vocab_size, vocab.max_len)\n",
    "autoencoder.load_autoencoder_model(f'{path_model}\\\\model--86--0.0013.hdf5')\n",
    "\n",
    "# Encode the data into latent vectors\n",
    "X_train = vocab.one_hot_encoder(tok_smiles)  # Ensure data is one-hot encoded\n",
    "x_latent = autoencoder.smiles_to_latent_model.predict(X_train)\n",
    "\n",
    "# Optionally, check the shape and some entries of the latent vectors\n",
    "print(\"Shape of the latent vectors:\", x_latent.shape)\n",
    "print(\"Example latent vectors:\", x_latent[:5])"
   ]
  }
 ],
 "metadata": {
  "kernelspec": {
   "display_name": "myenv",
   "language": "python",
   "name": "python3"
  },
  "language_info": {
   "codemirror_mode": {
    "name": "ipython",
    "version": 3
   },
   "file_extension": ".py",
   "mimetype": "text/x-python",
   "name": "python",
   "nbconvert_exporter": "python",
   "pygments_lexer": "ipython3",
   "version": "3.9.19"
  }
 },
 "nbformat": 4,
 "nbformat_minor": 2
}
